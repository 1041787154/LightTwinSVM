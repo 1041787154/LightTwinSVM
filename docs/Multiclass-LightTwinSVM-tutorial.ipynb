{
 "cells": [
  {
   "cell_type": "markdown",
   "metadata": {},
   "source": [
    "# Step-by-Step guide on How to Use Multi-class TwinSVM on Wine Dataset."
   ]
  },
  {
   "cell_type": "markdown",
   "metadata": {},
   "source": [
    "**Note:** Before running this notebook, make sure that LightTwinSVM program is installed."
   ]
  },
  {
   "cell_type": "markdown",
   "metadata": {},
   "source": [
    "## Read datatset"
   ]
  },
  {
   "cell_type": "markdown",
   "metadata": {},
   "source": [
    "For this tutorial, Wine dataset will be used. However, you can use your own dataset by changing following path. <br />\n",
    "For reading CSV file, pandas package is used. <br />\n",
    "**Note:** Please make sure that your dataset is comptabile with the [LightTwinSVM's dataset format](https://github.com/mir-am/LightTwinSVM#dataset-format)."
   ]
  },
  {
   "cell_type": "code",
   "execution_count": 1,
   "metadata": {},
   "outputs": [
    {
     "name": "stderr",
     "output_type": "stream",
     "text": [
      "/usr/lib/python3.5/importlib/_bootstrap.py:222: RuntimeWarning: numpy.dtype size changed, may indicate binary incompatibility. Expected 96, got 88\n",
      "  return f(*args, **kwds)\n",
      "/usr/lib/python3.5/importlib/_bootstrap.py:222: RuntimeWarning: numpy.dtype size changed, may indicate binary incompatibility. Expected 96, got 88\n",
      "  return f(*args, **kwds)\n"
     ]
    },
    {
     "data": {
      "text/html": [
       "<div>\n",
       "<style scoped>\n",
       "    .dataframe tbody tr th:only-of-type {\n",
       "        vertical-align: middle;\n",
       "    }\n",
       "\n",
       "    .dataframe tbody tr th {\n",
       "        vertical-align: top;\n",
       "    }\n",
       "\n",
       "    .dataframe thead th {\n",
       "        text-align: right;\n",
       "    }\n",
       "</style>\n",
       "<table border=\"1\" class=\"dataframe\">\n",
       "  <thead>\n",
       "    <tr style=\"text-align: right;\">\n",
       "      <th></th>\n",
       "      <th>class</th>\n",
       "      <th>F1</th>\n",
       "      <th>F2</th>\n",
       "      <th>F3</th>\n",
       "      <th>F4</th>\n",
       "      <th>F5</th>\n",
       "      <th>F6</th>\n",
       "      <th>F7</th>\n",
       "      <th>F8</th>\n",
       "      <th>F9</th>\n",
       "      <th>F10</th>\n",
       "      <th>F11</th>\n",
       "      <th>F12</th>\n",
       "      <th>F13</th>\n",
       "    </tr>\n",
       "  </thead>\n",
       "  <tbody>\n",
       "    <tr>\n",
       "      <th>0</th>\n",
       "      <td>1</td>\n",
       "      <td>1.518613</td>\n",
       "      <td>-0.562250</td>\n",
       "      <td>0.232053</td>\n",
       "      <td>-1.169593</td>\n",
       "      <td>1.913905</td>\n",
       "      <td>0.808997</td>\n",
       "      <td>1.034819</td>\n",
       "      <td>-0.659563</td>\n",
       "      <td>1.224884</td>\n",
       "      <td>0.251717</td>\n",
       "      <td>0.362177</td>\n",
       "      <td>1.847920</td>\n",
       "      <td>1.013009</td>\n",
       "    </tr>\n",
       "    <tr>\n",
       "      <th>1</th>\n",
       "      <td>1</td>\n",
       "      <td>0.246290</td>\n",
       "      <td>-0.499413</td>\n",
       "      <td>-0.827996</td>\n",
       "      <td>-2.490847</td>\n",
       "      <td>0.018145</td>\n",
       "      <td>0.568648</td>\n",
       "      <td>0.733629</td>\n",
       "      <td>-0.820719</td>\n",
       "      <td>-0.544721</td>\n",
       "      <td>-0.293321</td>\n",
       "      <td>0.406051</td>\n",
       "      <td>1.113449</td>\n",
       "      <td>0.965242</td>\n",
       "    </tr>\n",
       "    <tr>\n",
       "      <th>2</th>\n",
       "      <td>1</td>\n",
       "      <td>0.196879</td>\n",
       "      <td>0.021231</td>\n",
       "      <td>1.109334</td>\n",
       "      <td>-0.268738</td>\n",
       "      <td>0.088358</td>\n",
       "      <td>0.808997</td>\n",
       "      <td>1.215533</td>\n",
       "      <td>-0.498407</td>\n",
       "      <td>2.135968</td>\n",
       "      <td>0.269020</td>\n",
       "      <td>0.318304</td>\n",
       "      <td>0.788587</td>\n",
       "      <td>1.395148</td>\n",
       "    </tr>\n",
       "    <tr>\n",
       "      <th>3</th>\n",
       "      <td>1</td>\n",
       "      <td>1.691550</td>\n",
       "      <td>-0.346811</td>\n",
       "      <td>0.487926</td>\n",
       "      <td>-0.809251</td>\n",
       "      <td>0.930918</td>\n",
       "      <td>2.491446</td>\n",
       "      <td>1.466525</td>\n",
       "      <td>-0.981875</td>\n",
       "      <td>1.032155</td>\n",
       "      <td>1.186068</td>\n",
       "      <td>-0.427544</td>\n",
       "      <td>1.184071</td>\n",
       "      <td>2.334574</td>\n",
       "    </tr>\n",
       "    <tr>\n",
       "      <th>4</th>\n",
       "      <td>1</td>\n",
       "      <td>0.295700</td>\n",
       "      <td>0.227694</td>\n",
       "      <td>1.840403</td>\n",
       "      <td>0.451946</td>\n",
       "      <td>1.281985</td>\n",
       "      <td>0.808997</td>\n",
       "      <td>0.663351</td>\n",
       "      <td>0.226796</td>\n",
       "      <td>0.401404</td>\n",
       "      <td>-0.319276</td>\n",
       "      <td>0.362177</td>\n",
       "      <td>0.449601</td>\n",
       "      <td>-0.037874</td>\n",
       "    </tr>\n",
       "  </tbody>\n",
       "</table>\n",
       "</div>"
      ],
      "text/plain": [
       "   class        F1        F2        F3        F4        F5        F6  \\\n",
       "0      1  1.518613 -0.562250  0.232053 -1.169593  1.913905  0.808997   \n",
       "1      1  0.246290 -0.499413 -0.827996 -2.490847  0.018145  0.568648   \n",
       "2      1  0.196879  0.021231  1.109334 -0.268738  0.088358  0.808997   \n",
       "3      1  1.691550 -0.346811  0.487926 -0.809251  0.930918  2.491446   \n",
       "4      1  0.295700  0.227694  1.840403  0.451946  1.281985  0.808997   \n",
       "\n",
       "         F7        F8        F9       F10       F11       F12       F13  \n",
       "0  1.034819 -0.659563  1.224884  0.251717  0.362177  1.847920  1.013009  \n",
       "1  0.733629 -0.820719 -0.544721 -0.293321  0.406051  1.113449  0.965242  \n",
       "2  1.215533 -0.498407  2.135968  0.269020  0.318304  0.788587  1.395148  \n",
       "3  1.466525 -0.981875  1.032155  1.186068 -0.427544  1.184071  2.334574  \n",
       "4  0.663351  0.226796  0.401404 -0.319276  0.362177  0.449601 -0.037874  "
      ]
     },
     "execution_count": 1,
     "metadata": {},
     "output_type": "execute_result"
    }
   ],
   "source": [
    "import pandas as pd\n",
    "\n",
    "dataset_path = '../dataset/wine.csv'\n",
    "dataset = pd.read_csv(dataset_path)\n",
    "dataset.head()"
   ]
  },
  {
   "cell_type": "markdown",
   "metadata": {},
   "source": [
    "## Prepare training samples and class labels\n",
    "In order to improve generalization and reduce variance, we need to shuffle the samples of dataset. "
   ]
  },
  {
   "cell_type": "code",
   "execution_count": 9,
   "metadata": {},
   "outputs": [
    {
     "data": {
      "text/html": [
       "<div>\n",
       "<style scoped>\n",
       "    .dataframe tbody tr th:only-of-type {\n",
       "        vertical-align: middle;\n",
       "    }\n",
       "\n",
       "    .dataframe tbody tr th {\n",
       "        vertical-align: top;\n",
       "    }\n",
       "\n",
       "    .dataframe thead th {\n",
       "        text-align: right;\n",
       "    }\n",
       "</style>\n",
       "<table border=\"1\" class=\"dataframe\">\n",
       "  <thead>\n",
       "    <tr style=\"text-align: right;\">\n",
       "      <th></th>\n",
       "      <th>class</th>\n",
       "      <th>F1</th>\n",
       "      <th>F2</th>\n",
       "      <th>F3</th>\n",
       "      <th>F4</th>\n",
       "      <th>F5</th>\n",
       "      <th>F6</th>\n",
       "      <th>F7</th>\n",
       "      <th>F8</th>\n",
       "      <th>F9</th>\n",
       "      <th>F10</th>\n",
       "      <th>F11</th>\n",
       "      <th>F12</th>\n",
       "      <th>F13</th>\n",
       "    </tr>\n",
       "  </thead>\n",
       "  <tbody>\n",
       "    <tr>\n",
       "      <th>166</th>\n",
       "      <td>3</td>\n",
       "      <td>0.555106</td>\n",
       "      <td>1.224100</td>\n",
       "      <td>0.853460</td>\n",
       "      <td>1.052516</td>\n",
       "      <td>0.790492</td>\n",
       "      <td>-0.953567</td>\n",
       "      <td>-1.113670</td>\n",
       "      <td>0.549108</td>\n",
       "      <td>-0.229346</td>\n",
       "      <td>2.431870</td>\n",
       "      <td>-0.471417</td>\n",
       "      <td>-1.485445</td>\n",
       "      <td>-0.165254</td>\n",
       "    </tr>\n",
       "    <tr>\n",
       "      <th>84</th>\n",
       "      <td>2</td>\n",
       "      <td>-1.433671</td>\n",
       "      <td>-1.298334</td>\n",
       "      <td>0.780354</td>\n",
       "      <td>-0.448909</td>\n",
       "      <td>-0.403135</td>\n",
       "      <td>-0.152402</td>\n",
       "      <td>0.181447</td>\n",
       "      <td>-1.143031</td>\n",
       "      <td>1.330009</td>\n",
       "      <td>-0.868639</td>\n",
       "      <td>-0.734657</td>\n",
       "      <td>0.661468</td>\n",
       "      <td>-0.722540</td>\n",
       "    </tr>\n",
       "    <tr>\n",
       "      <th>22</th>\n",
       "      <td>1</td>\n",
       "      <td>0.876275</td>\n",
       "      <td>-0.427600</td>\n",
       "      <td>-0.023821</td>\n",
       "      <td>-0.869308</td>\n",
       "      <td>0.088358</td>\n",
       "      <td>0.504554</td>\n",
       "      <td>0.854105</td>\n",
       "      <td>-0.740141</td>\n",
       "      <td>0.173634</td>\n",
       "      <td>-0.544212</td>\n",
       "      <td>0.669291</td>\n",
       "      <td>1.960915</td>\n",
       "      <td>0.917474</td>\n",
       "    </tr>\n",
       "    <tr>\n",
       "      <th>143</th>\n",
       "      <td>3</td>\n",
       "      <td>0.765101</td>\n",
       "      <td>2.346179</td>\n",
       "      <td>-0.060375</td>\n",
       "      <td>0.151661</td>\n",
       "      <td>-0.543562</td>\n",
       "      <td>-0.472868</td>\n",
       "      <td>-1.234146</td>\n",
       "      <td>0.871420</td>\n",
       "      <td>-1.000263</td>\n",
       "      <td>-0.284670</td>\n",
       "      <td>-0.208177</td>\n",
       "      <td>-0.793348</td>\n",
       "      <td>-0.627005</td>\n",
       "    </tr>\n",
       "    <tr>\n",
       "      <th>151</th>\n",
       "      <td>3</td>\n",
       "      <td>-0.260169</td>\n",
       "      <td>0.299507</td>\n",
       "      <td>0.414820</td>\n",
       "      <td>0.752231</td>\n",
       "      <td>0.860705</td>\n",
       "      <td>-1.306080</td>\n",
       "      <td>-0.671924</td>\n",
       "      <td>-0.981875</td>\n",
       "      <td>-0.579763</td>\n",
       "      <td>2.483778</td>\n",
       "      <td>-2.094732</td>\n",
       "      <td>-1.612565</td>\n",
       "      <td>-0.849920</td>\n",
       "    </tr>\n",
       "  </tbody>\n",
       "</table>\n",
       "</div>"
      ],
      "text/plain": [
       "     class        F1        F2        F3        F4        F5        F6  \\\n",
       "166      3  0.555106  1.224100  0.853460  1.052516  0.790492 -0.953567   \n",
       "84       2 -1.433671 -1.298334  0.780354 -0.448909 -0.403135 -0.152402   \n",
       "22       1  0.876275 -0.427600 -0.023821 -0.869308  0.088358  0.504554   \n",
       "143      3  0.765101  2.346179 -0.060375  0.151661 -0.543562 -0.472868   \n",
       "151      3 -0.260169  0.299507  0.414820  0.752231  0.860705 -1.306080   \n",
       "\n",
       "           F7        F8        F9       F10       F11       F12       F13  \n",
       "166 -1.113670  0.549108 -0.229346  2.431870 -0.471417 -1.485445 -0.165254  \n",
       "84   0.181447 -1.143031  1.330009 -0.868639 -0.734657  0.661468 -0.722540  \n",
       "22   0.854105 -0.740141  0.173634 -0.544212  0.669291  1.960915  0.917474  \n",
       "143 -1.234146  0.871420 -1.000263 -0.284670 -0.208177 -0.793348 -0.627005  \n",
       "151 -0.671924 -0.981875 -0.579763  2.483778 -2.094732 -1.612565 -0.849920  "
      ]
     },
     "execution_count": 9,
     "metadata": {},
     "output_type": "execute_result"
    }
   ],
   "source": [
    "from sklearn.utils import shuffle \n",
    "\n",
    "dataset = shuffle(dataset)\n",
    "dataset.head()"
   ]
  },
  {
   "cell_type": "markdown",
   "metadata": {},
   "source": [
    "In this step, samples and their corresponding labels is converted to Numpy arrays which is necessary for running the classifier."
   ]
  },
  {
   "cell_type": "code",
   "execution_count": 10,
   "metadata": {},
   "outputs": [
    {
     "data": {
      "text/plain": [
       "array([3, 2, 1, 3, 3, 3, 3, 2, 1, 1, 3, 1, 2, 3, 2, 1, 2, 3, 3, 1, 2, 1,\n",
       "       3, 2, 3, 2, 2, 1, 2, 1, 3, 1, 2, 1, 2, 2, 2, 3, 1, 2, 1, 2, 1, 1,\n",
       "       2, 1, 3, 2, 2, 2, 2, 1, 2, 3, 2, 2, 2, 1, 1, 1, 2, 1, 1, 2, 3, 2,\n",
       "       2, 2, 3, 1, 1, 3, 2, 1, 2, 2, 3, 2, 1, 1, 3, 3, 3, 2, 1, 3, 2, 2,\n",
       "       1, 1, 2, 2, 1, 3, 1, 2, 3, 1, 1, 3, 2, 2, 2, 1, 3, 3, 1, 1, 2, 2,\n",
       "       2, 1, 3, 2, 2, 3, 1, 2, 3, 2, 1, 3, 1, 3, 2, 3, 3, 1, 1, 2, 2, 3,\n",
       "       3, 3, 2, 1, 2, 2, 3, 2, 3, 2, 2, 1, 3, 2, 1, 2, 1, 2, 3, 2, 1, 1,\n",
       "       3, 1, 2, 2, 3, 1, 1, 1, 3, 1, 3, 1, 2, 1, 3, 2, 3, 2, 1, 1, 1, 2,\n",
       "       2, 2])"
      ]
     },
     "execution_count": 10,
     "metadata": {},
     "output_type": "execute_result"
    }
   ],
   "source": [
    "X_train = dataset.iloc[:, 1:].values # Features' values\n",
    "y_true = dataset.iloc[:, 0].values\n",
    "y_true"
   ]
  },
  {
   "cell_type": "markdown",
   "metadata": {},
   "source": [
    "## Using LightTwinSVM for classification"
   ]
  },
  {
   "cell_type": "markdown",
   "metadata": {},
   "source": [
    "To use LightTwinSVM modules, its path should be added to PYTHON PATH"
   ]
  },
  {
   "cell_type": "code",
   "execution_count": 13,
   "metadata": {},
   "outputs": [],
   "source": [
    "import sys\n",
    "sys.path.insert(0, '../src/')"
   ]
  },
  {
   "cell_type": "markdown",
   "metadata": {},
   "source": [
    "It's time to create an instance of TwinSVM classifier"
   ]
  },
  {
   "cell_type": "code",
   "execution_count": 15,
   "metadata": {},
   "outputs": [],
   "source": [
    "import twinsvm as tsvm\n",
    "\n",
    "# Choose a kernel\n",
    "kernel = 'RBF'\n",
    "\n",
    "tsvm_model = tsvm.OVO_TSVM(kernel=kernel)"
   ]
  },
  {
   "cell_type": "markdown",
   "metadata": {},
   "source": [
    "### Specify range of hyper-parameters for grid search"
   ]
  },
  {
   "cell_type": "markdown",
   "metadata": {},
   "source": [
    "Performance of TwinSVM classifier is highly dependent upon the choice of hyper-parameters. Therefore, using a search method to find optimal values of these parameters is essential. <br />\n",
    "In this guide, C parameter is chosen from the following set:\n",
    "$$C = \\{2^{i}|i=-6,-5,\\dots, 4\\}$$"
   ]
  },
  {
   "cell_type": "code",
   "execution_count": 17,
   "metadata": {},
   "outputs": [],
   "source": [
    "c_range = {'C_1': [float(2**i) for i in range(-6, 5)],\n",
    "           'C_2': [float(2**i) for i in range(-6, 5)]}\n",
    "\n",
    "gamma_range = {'gamma': [float(2**i) for i in range(-8, 3)]} if kernel == 'RBF' else {}\n",
    "\n",
    "param_range = {**c_range, **gamma_range}"
   ]
  },
  {
   "cell_type": "markdown",
   "metadata": {},
   "source": [
    "To evaluate the classifier, K-Fold Cross validation is often used. <br />"
   ]
  },
  {
   "cell_type": "code",
   "execution_count": 18,
   "metadata": {},
   "outputs": [],
   "source": [
    "from sklearn.model_selection import GridSearchCV\n",
    "\n",
    "cv_folds = 5\n",
    "\n",
    "result = GridSearchCV(tsvm_model, param_range, cv=cv_folds, verbose=1)"
   ]
  },
  {
   "cell_type": "markdown",
   "metadata": {},
   "source": [
    "Start grid search! Based on your hardware speed, it takes about 3~4 minutes."
   ]
  },
  {
   "cell_type": "code",
   "execution_count": 19,
   "metadata": {},
   "outputs": [
    {
     "name": "stdout",
     "output_type": "stream",
     "text": [
      "Fitting 5 folds for each of 1331 candidates, totalling 6655 fits\n"
     ]
    },
    {
     "name": "stderr",
     "output_type": "stream",
     "text": [
      "[Parallel(n_jobs=1)]: Done 6655 out of 6655 | elapsed:  3.2min finished\n"
     ]
    },
    {
     "data": {
      "text/plain": [
       "GridSearchCV(cv=5, error_score='raise',\n",
       "       estimator=OVO_TSVM(C_1=1, C_2=1, gamma=1, kernel='RBF'),\n",
       "       fit_params=None, iid=True, n_jobs=1,\n",
       "       param_grid={'C_1': [0.015625, 0.03125, 0.0625, 0.125, 0.25, 0.5, 1.0, 2.0, 4.0, 8.0, 16.0], 'gamma': [0.00390625, 0.0078125, 0.015625, 0.03125, 0.0625, 0.125, 0.25, 0.5, 1.0, 2.0, 4.0], 'C_2': [0.015625, 0.03125, 0.0625, 0.125, 0.25, 0.5, 1.0, 2.0, 4.0, 8.0, 16.0]},\n",
       "       pre_dispatch='2*n_jobs', refit=True, return_train_score='warn',\n",
       "       scoring=None, verbose=1)"
      ]
     },
     "execution_count": 19,
     "metadata": {},
     "output_type": "execute_result"
    }
   ],
   "source": [
    "result.fit(X_train, y_true)"
   ]
  },
  {
   "cell_type": "markdown",
   "metadata": {},
   "source": [
    "### Evaluation of classification result"
   ]
  },
  {
   "cell_type": "markdown",
   "metadata": {},
   "source": [
    "After grid search, the best model is found and its accuracy is as follows:"
   ]
  },
  {
   "cell_type": "code",
   "execution_count": 25,
   "metadata": {},
   "outputs": [
    {
     "name": "stdout",
     "output_type": "stream",
     "text": [
      "Best score: 99.44+-1.10\n"
     ]
    }
   ],
   "source": [
    "from sklearn.metrics import accuracy_score, confusion_matrix, classification_report\n",
    "\n",
    "best_mean_score = result.cv_results_['mean_test_score'][result.best_index_]\n",
    "best_std_score = result.cv_results_['std_test_score'][result.best_index_]\n",
    "\n",
    "print(\"Best score: %.2f+-%.2f\" % (best_mean_score * 100, best_std_score * 100))"
   ]
  },
  {
   "cell_type": "markdown",
   "metadata": {},
   "source": [
    "### Confusion matrix"
   ]
  },
  {
   "cell_type": "markdown",
   "metadata": {},
   "source": [
    "To interpret the classification result, confusion matrix is a great choice."
   ]
  },
  {
   "cell_type": "code",
   "execution_count": 26,
   "metadata": {},
   "outputs": [],
   "source": [
    "# Predict data with pre-trained model\n",
    "y_pred = result.best_estimator_.predict(X_train)"
   ]
  },
  {
   "cell_type": "markdown",
   "metadata": {},
   "source": [
    "### Full classification report "
   ]
  },
  {
   "cell_type": "code",
   "execution_count": 27,
   "metadata": {},
   "outputs": [
    {
     "name": "stdout",
     "output_type": "stream",
     "text": [
      "             precision    recall  f1-score   support\n",
      "\n",
      "          1       1.00      1.00      1.00        59\n",
      "          2       1.00      1.00      1.00        71\n",
      "          3       1.00      1.00      1.00        48\n",
      "\n",
      "avg / total       1.00      1.00      1.00       178\n",
      "\n"
     ]
    }
   ],
   "source": [
    "print(classification_report(y_true, y_pred))"
   ]
  },
  {
   "cell_type": "code",
   "execution_count": null,
   "metadata": {},
   "outputs": [],
   "source": []
  }
 ],
 "metadata": {
  "kernelspec": {
   "display_name": "Python 3",
   "language": "python",
   "name": "python3"
  },
  "language_info": {
   "codemirror_mode": {
    "name": "ipython",
    "version": 3
   },
   "file_extension": ".py",
   "mimetype": "text/x-python",
   "name": "python",
   "nbconvert_exporter": "python",
   "pygments_lexer": "ipython3",
   "version": "3.5.2"
  }
 },
 "nbformat": 4,
 "nbformat_minor": 2
}
